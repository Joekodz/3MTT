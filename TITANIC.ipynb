{
 "cells": [
  {
   "cell_type": "code",
   "execution_count": 1,
   "id": "1bef22d0",
   "metadata": {},
   "outputs": [],
   "source": [
    "# Import your Library 🥂🥂🥂 I like to import all my Libraries\n",
    "import pandas as pd\n",
    "import numpy as np\n",
    "import matplotlib.pyplot as plt \n",
    "import plotly.express as px\n",
    "import seaborn as sns\n",
    "import warnings \n",
    "warnings.filterwarnings('ignore')"
   ]
  },
  {
   "cell_type": "markdown",
   "id": "0b598c22",
   "metadata": {},
   "source": [
    "# Dataset Columns\n",
    "* survived: Indicates whether the passenger survived (1) or not (0). pclass: Passenger class (Ist, 2nd, 3rd).\n",
    "* sex: Gender of the passenger (male or female).\n",
    "* age: Age of the passenger in years.\n",
    "* sibsp: Number of siblings/spouses aboard.\n",
    "* parch: Number of parents/ children aboard.\n",
    "* fare: Fare paid for the ticket.\n",
    "* embarked: Port of embarkation (C = Cherbourg, Q = Queenstown, S = Southampton).\n",
    "* class: The ticket class (First, Second, Third).\n",
    "* who: Categorization of the passenger (man, woman, child).\n",
    "* adult_male: Indicates if the passenger is an adult male (True/False).\n",
    "* deck: The deck the passenger was assigned to.\n",
    "* embark_ town: Name of the town where the passenger embarked.\n",
    "* alive: Survival status (yes/no).\n",
    "* alone: Indicates whether the passenger was alone (True/False) "
   ]
  },
  {
   "cell_type": "markdown",
   "id": "0998e8c6",
   "metadata": {},
   "source": [
    "# Business Questions for Analysis\n",
    "1. What is the survival rate of passengers?\n",
    "2. What is the gender distribution of passengers?\n",
    "3. How does survival rate differ by class?\n",
    "4. What is the distribution of passenger ages?\n",
    "5. How many passengers embarked from each location?\n",
    "6. What is the average fare paid per class?\n",
    "7. How does gender affect survival rates?\n",
    "8. What is the correlation between fare and survival?\n",
    "9. How does the number of siblings/ spouses aboard affect survival?\n",
    "10. What is the age distribution by class?\n",
    "11. What is the survival rate by embarkation point?\n",
    "12. What is the impact of having parents/ children aboard on survival?"
   ]
  },
  {
   "cell_type": "code",
   "execution_count": 2,
   "id": "48617f51",
   "metadata": {},
   "outputs": [
    {
     "data": {
      "text/html": [
       "<div>\n",
       "<style scoped>\n",
       "    .dataframe tbody tr th:only-of-type {\n",
       "        vertical-align: middle;\n",
       "    }\n",
       "\n",
       "    .dataframe tbody tr th {\n",
       "        vertical-align: top;\n",
       "    }\n",
       "\n",
       "    .dataframe thead th {\n",
       "        text-align: right;\n",
       "    }\n",
       "</style>\n",
       "<table border=\"1\" class=\"dataframe\">\n",
       "  <thead>\n",
       "    <tr style=\"text-align: right;\">\n",
       "      <th></th>\n",
       "      <th>survived,pclass,sex,age,sibsp,parch,fare,embarked,class,who,adult_male,deck,embark_town,alive,alone</th>\n",
       "    </tr>\n",
       "  </thead>\n",
       "  <tbody>\n",
       "    <tr>\n",
       "      <th>0</th>\n",
       "      <td>0,3,male,22.0,1,0,7.25,S,Third,man,True,,South...</td>\n",
       "    </tr>\n",
       "    <tr>\n",
       "      <th>1</th>\n",
       "      <td>1,1,female,38.0,1,0,71.2833,C,First,woman,Fals...</td>\n",
       "    </tr>\n",
       "    <tr>\n",
       "      <th>2</th>\n",
       "      <td>1,3,female,26.0,0,0,7.925,S,Third,woman,False,...</td>\n",
       "    </tr>\n",
       "    <tr>\n",
       "      <th>3</th>\n",
       "      <td>1,1,female,35.0,1,0,53.1,S,First,woman,False,C...</td>\n",
       "    </tr>\n",
       "    <tr>\n",
       "      <th>4</th>\n",
       "      <td>0,3,male,35.0,0,0,8.05,S,Third,man,True,,South...</td>\n",
       "    </tr>\n",
       "    <tr>\n",
       "      <th>...</th>\n",
       "      <td>...</td>\n",
       "    </tr>\n",
       "    <tr>\n",
       "      <th>886</th>\n",
       "      <td>0,2,male,27.0,0,0,13.0,S,Second,man,True,,Sout...</td>\n",
       "    </tr>\n",
       "    <tr>\n",
       "      <th>887</th>\n",
       "      <td>1,1,female,19.0,0,0,30.0,S,First,woman,False,B...</td>\n",
       "    </tr>\n",
       "    <tr>\n",
       "      <th>888</th>\n",
       "      <td>0,3,female,,1,2,23.45,S,Third,woman,False,,Sou...</td>\n",
       "    </tr>\n",
       "    <tr>\n",
       "      <th>889</th>\n",
       "      <td>1,1,male,26.0,0,0,30.0,C,First,man,True,C,Cher...</td>\n",
       "    </tr>\n",
       "    <tr>\n",
       "      <th>890</th>\n",
       "      <td>0,3,male,32.0,0,0,7.75,Q,Third,man,True,,Queen...</td>\n",
       "    </tr>\n",
       "  </tbody>\n",
       "</table>\n",
       "<p>891 rows × 1 columns</p>\n",
       "</div>"
      ],
      "text/plain": [
       "    survived,pclass,sex,age,sibsp,parch,fare,embarked,class,who,adult_male,deck,embark_town,alive,alone\n",
       "0    0,3,male,22.0,1,0,7.25,S,Third,man,True,,South...                                                 \n",
       "1    1,1,female,38.0,1,0,71.2833,C,First,woman,Fals...                                                 \n",
       "2    1,3,female,26.0,0,0,7.925,S,Third,woman,False,...                                                 \n",
       "3    1,1,female,35.0,1,0,53.1,S,First,woman,False,C...                                                 \n",
       "4    0,3,male,35.0,0,0,8.05,S,Third,man,True,,South...                                                 \n",
       "..                                                 ...                                                 \n",
       "886  0,2,male,27.0,0,0,13.0,S,Second,man,True,,Sout...                                                 \n",
       "887  1,1,female,19.0,0,0,30.0,S,First,woman,False,B...                                                 \n",
       "888  0,3,female,,1,2,23.45,S,Third,woman,False,,Sou...                                                 \n",
       "889  1,1,male,26.0,0,0,30.0,C,First,man,True,C,Cher...                                                 \n",
       "890  0,3,male,32.0,0,0,7.75,Q,Third,man,True,,Queen...                                                 \n",
       "\n",
       "[891 rows x 1 columns]"
      ]
     },
     "execution_count": 2,
     "metadata": {},
     "output_type": "execute_result"
    }
   ],
   "source": [
    "#Import the titanic data set\n",
    "df = pd.read_excel('TITANIc.xlsx')\n",
    "df"
   ]
  },
  {
   "cell_type": "code",
   "execution_count": 3,
   "id": "09a25b2e",
   "metadata": {},
   "outputs": [
    {
     "data": {
      "text/html": [
       "<div>\n",
       "<style scoped>\n",
       "    .dataframe tbody tr th:only-of-type {\n",
       "        vertical-align: middle;\n",
       "    }\n",
       "\n",
       "    .dataframe tbody tr th {\n",
       "        vertical-align: top;\n",
       "    }\n",
       "\n",
       "    .dataframe thead th {\n",
       "        text-align: right;\n",
       "    }\n",
       "</style>\n",
       "<table border=\"1\" class=\"dataframe\">\n",
       "  <thead>\n",
       "    <tr style=\"text-align: right;\">\n",
       "      <th></th>\n",
       "      <th>survived</th>\n",
       "      <th>pclass</th>\n",
       "      <th>sex</th>\n",
       "      <th>age</th>\n",
       "      <th>sibsp</th>\n",
       "      <th>parch</th>\n",
       "      <th>fare</th>\n",
       "      <th>embarked</th>\n",
       "      <th>class</th>\n",
       "      <th>who</th>\n",
       "      <th>adult_male</th>\n",
       "      <th>deck</th>\n",
       "      <th>embark_town</th>\n",
       "      <th>alive</th>\n",
       "      <th>alone</th>\n",
       "    </tr>\n",
       "  </thead>\n",
       "  <tbody>\n",
       "    <tr>\n",
       "      <th>0</th>\n",
       "      <td>0</td>\n",
       "      <td>3</td>\n",
       "      <td>male</td>\n",
       "      <td>22.0</td>\n",
       "      <td>1</td>\n",
       "      <td>0</td>\n",
       "      <td>7.25</td>\n",
       "      <td>S</td>\n",
       "      <td>Third</td>\n",
       "      <td>man</td>\n",
       "      <td>True</td>\n",
       "      <td></td>\n",
       "      <td>Southampton</td>\n",
       "      <td>no</td>\n",
       "      <td>False</td>\n",
       "    </tr>\n",
       "    <tr>\n",
       "      <th>1</th>\n",
       "      <td>1</td>\n",
       "      <td>1</td>\n",
       "      <td>female</td>\n",
       "      <td>38.0</td>\n",
       "      <td>1</td>\n",
       "      <td>0</td>\n",
       "      <td>71.2833</td>\n",
       "      <td>C</td>\n",
       "      <td>First</td>\n",
       "      <td>woman</td>\n",
       "      <td>False</td>\n",
       "      <td>C</td>\n",
       "      <td>Cherbourg</td>\n",
       "      <td>yes</td>\n",
       "      <td>False</td>\n",
       "    </tr>\n",
       "    <tr>\n",
       "      <th>2</th>\n",
       "      <td>1</td>\n",
       "      <td>3</td>\n",
       "      <td>female</td>\n",
       "      <td>26.0</td>\n",
       "      <td>0</td>\n",
       "      <td>0</td>\n",
       "      <td>7.925</td>\n",
       "      <td>S</td>\n",
       "      <td>Third</td>\n",
       "      <td>woman</td>\n",
       "      <td>False</td>\n",
       "      <td></td>\n",
       "      <td>Southampton</td>\n",
       "      <td>yes</td>\n",
       "      <td>True</td>\n",
       "    </tr>\n",
       "    <tr>\n",
       "      <th>3</th>\n",
       "      <td>1</td>\n",
       "      <td>1</td>\n",
       "      <td>female</td>\n",
       "      <td>35.0</td>\n",
       "      <td>1</td>\n",
       "      <td>0</td>\n",
       "      <td>53.1</td>\n",
       "      <td>S</td>\n",
       "      <td>First</td>\n",
       "      <td>woman</td>\n",
       "      <td>False</td>\n",
       "      <td>C</td>\n",
       "      <td>Southampton</td>\n",
       "      <td>yes</td>\n",
       "      <td>False</td>\n",
       "    </tr>\n",
       "    <tr>\n",
       "      <th>4</th>\n",
       "      <td>0</td>\n",
       "      <td>3</td>\n",
       "      <td>male</td>\n",
       "      <td>35.0</td>\n",
       "      <td>0</td>\n",
       "      <td>0</td>\n",
       "      <td>8.05</td>\n",
       "      <td>S</td>\n",
       "      <td>Third</td>\n",
       "      <td>man</td>\n",
       "      <td>True</td>\n",
       "      <td></td>\n",
       "      <td>Southampton</td>\n",
       "      <td>no</td>\n",
       "      <td>True</td>\n",
       "    </tr>\n",
       "    <tr>\n",
       "      <th>...</th>\n",
       "      <td>...</td>\n",
       "      <td>...</td>\n",
       "      <td>...</td>\n",
       "      <td>...</td>\n",
       "      <td>...</td>\n",
       "      <td>...</td>\n",
       "      <td>...</td>\n",
       "      <td>...</td>\n",
       "      <td>...</td>\n",
       "      <td>...</td>\n",
       "      <td>...</td>\n",
       "      <td>...</td>\n",
       "      <td>...</td>\n",
       "      <td>...</td>\n",
       "      <td>...</td>\n",
       "    </tr>\n",
       "    <tr>\n",
       "      <th>886</th>\n",
       "      <td>0</td>\n",
       "      <td>2</td>\n",
       "      <td>male</td>\n",
       "      <td>27.0</td>\n",
       "      <td>0</td>\n",
       "      <td>0</td>\n",
       "      <td>13.0</td>\n",
       "      <td>S</td>\n",
       "      <td>Second</td>\n",
       "      <td>man</td>\n",
       "      <td>True</td>\n",
       "      <td></td>\n",
       "      <td>Southampton</td>\n",
       "      <td>no</td>\n",
       "      <td>True</td>\n",
       "    </tr>\n",
       "    <tr>\n",
       "      <th>887</th>\n",
       "      <td>1</td>\n",
       "      <td>1</td>\n",
       "      <td>female</td>\n",
       "      <td>19.0</td>\n",
       "      <td>0</td>\n",
       "      <td>0</td>\n",
       "      <td>30.0</td>\n",
       "      <td>S</td>\n",
       "      <td>First</td>\n",
       "      <td>woman</td>\n",
       "      <td>False</td>\n",
       "      <td>B</td>\n",
       "      <td>Southampton</td>\n",
       "      <td>yes</td>\n",
       "      <td>True</td>\n",
       "    </tr>\n",
       "    <tr>\n",
       "      <th>888</th>\n",
       "      <td>0</td>\n",
       "      <td>3</td>\n",
       "      <td>female</td>\n",
       "      <td></td>\n",
       "      <td>1</td>\n",
       "      <td>2</td>\n",
       "      <td>23.45</td>\n",
       "      <td>S</td>\n",
       "      <td>Third</td>\n",
       "      <td>woman</td>\n",
       "      <td>False</td>\n",
       "      <td></td>\n",
       "      <td>Southampton</td>\n",
       "      <td>no</td>\n",
       "      <td>False</td>\n",
       "    </tr>\n",
       "    <tr>\n",
       "      <th>889</th>\n",
       "      <td>1</td>\n",
       "      <td>1</td>\n",
       "      <td>male</td>\n",
       "      <td>26.0</td>\n",
       "      <td>0</td>\n",
       "      <td>0</td>\n",
       "      <td>30.0</td>\n",
       "      <td>C</td>\n",
       "      <td>First</td>\n",
       "      <td>man</td>\n",
       "      <td>True</td>\n",
       "      <td>C</td>\n",
       "      <td>Cherbourg</td>\n",
       "      <td>yes</td>\n",
       "      <td>True</td>\n",
       "    </tr>\n",
       "    <tr>\n",
       "      <th>890</th>\n",
       "      <td>0</td>\n",
       "      <td>3</td>\n",
       "      <td>male</td>\n",
       "      <td>32.0</td>\n",
       "      <td>0</td>\n",
       "      <td>0</td>\n",
       "      <td>7.75</td>\n",
       "      <td>Q</td>\n",
       "      <td>Third</td>\n",
       "      <td>man</td>\n",
       "      <td>True</td>\n",
       "      <td></td>\n",
       "      <td>Queenstown</td>\n",
       "      <td>no</td>\n",
       "      <td>True</td>\n",
       "    </tr>\n",
       "  </tbody>\n",
       "</table>\n",
       "<p>891 rows × 15 columns</p>\n",
       "</div>"
      ],
      "text/plain": [
       "0   survived pclass     sex   age sibsp parch     fare embarked   class  \\\n",
       "0          0      3    male  22.0     1     0     7.25        S   Third   \n",
       "1          1      1  female  38.0     1     0  71.2833        C   First   \n",
       "2          1      3  female  26.0     0     0    7.925        S   Third   \n",
       "3          1      1  female  35.0     1     0     53.1        S   First   \n",
       "4          0      3    male  35.0     0     0     8.05        S   Third   \n",
       "..       ...    ...     ...   ...   ...   ...      ...      ...     ...   \n",
       "886        0      2    male  27.0     0     0     13.0        S  Second   \n",
       "887        1      1  female  19.0     0     0     30.0        S   First   \n",
       "888        0      3  female           1     2    23.45        S   Third   \n",
       "889        1      1    male  26.0     0     0     30.0        C   First   \n",
       "890        0      3    male  32.0     0     0     7.75        Q   Third   \n",
       "\n",
       "0      who adult_male deck  embark_town alive  alone  \n",
       "0      man       True       Southampton    no  False  \n",
       "1    woman      False    C    Cherbourg   yes  False  \n",
       "2    woman      False       Southampton   yes   True  \n",
       "3    woman      False    C  Southampton   yes  False  \n",
       "4      man       True       Southampton    no   True  \n",
       "..     ...        ...  ...          ...   ...    ...  \n",
       "886    man       True       Southampton    no   True  \n",
       "887  woman      False    B  Southampton   yes   True  \n",
       "888  woman      False       Southampton    no  False  \n",
       "889    man       True    C    Cherbourg   yes   True  \n",
       "890    man       True        Queenstown    no   True  \n",
       "\n",
       "[891 rows x 15 columns]"
      ]
     },
     "execution_count": 3,
     "metadata": {},
     "output_type": "execute_result"
    }
   ],
   "source": [
    "#i observed the data set in excel came in as a csv hence we converted using the below steps used in data cleaning.\n",
    "\n",
    "titanic = pd.read_excel('TITANIc.xlsx', header=None) #This was used to remove all the headers \n",
    "df = titanic[0].str.split(',', expand=True) #Used to expand and asign column headers\n",
    "df.columns = df.iloc[0]      \n",
    "df = df[1:].reset_index(drop=True)  #reset headers to it's origina names\n",
    "df"
   ]
  },
  {
   "cell_type": "markdown",
   "id": "181cff30",
   "metadata": {},
   "source": [
    "# EDA"
   ]
  },
  {
   "cell_type": "code",
   "execution_count": 4,
   "id": "6a94bf88",
   "metadata": {},
   "outputs": [
    {
     "name": "stdout",
     "output_type": "stream",
     "text": [
      "<class 'pandas.core.frame.DataFrame'>\n",
      "RangeIndex: 891 entries, 0 to 890\n",
      "Data columns (total 15 columns):\n",
      " #   Column       Non-Null Count  Dtype \n",
      "---  ------       --------------  ----- \n",
      " 0   survived     891 non-null    object\n",
      " 1   pclass       891 non-null    object\n",
      " 2   sex          891 non-null    object\n",
      " 3   age          891 non-null    object\n",
      " 4   sibsp        891 non-null    object\n",
      " 5   parch        891 non-null    object\n",
      " 6   fare         891 non-null    object\n",
      " 7   embarked     891 non-null    object\n",
      " 8   class        891 non-null    object\n",
      " 9   who          891 non-null    object\n",
      " 10  adult_male   891 non-null    object\n",
      " 11  deck         891 non-null    object\n",
      " 12  embark_town  891 non-null    object\n",
      " 13  alive        891 non-null    object\n",
      " 14  alone        891 non-null    object\n",
      "dtypes: object(15)\n",
      "memory usage: 104.5+ KB\n"
     ]
    }
   ],
   "source": [
    "df.info() #i observed all Dtypes came in as objects"
   ]
  },
  {
   "cell_type": "code",
   "execution_count": 5,
   "id": "4d2c692e",
   "metadata": {},
   "outputs": [
    {
     "data": {
      "text/plain": [
       "107"
      ]
     },
     "execution_count": 5,
     "metadata": {},
     "output_type": "execute_result"
    }
   ],
   "source": [
    "df.duplicated().sum() #observe there are 107 dulpcated values how do we treat them?"
   ]
  },
  {
   "cell_type": "code",
   "execution_count": 6,
   "id": "0af486e8",
   "metadata": {
    "scrolled": true
   },
   "outputs": [
    {
     "data": {
      "text/html": [
       "<div>\n",
       "<style scoped>\n",
       "    .dataframe tbody tr th:only-of-type {\n",
       "        vertical-align: middle;\n",
       "    }\n",
       "\n",
       "    .dataframe tbody tr th {\n",
       "        vertical-align: top;\n",
       "    }\n",
       "\n",
       "    .dataframe thead th {\n",
       "        text-align: right;\n",
       "    }\n",
       "</style>\n",
       "<table border=\"1\" class=\"dataframe\">\n",
       "  <thead>\n",
       "    <tr style=\"text-align: right;\">\n",
       "      <th></th>\n",
       "      <th>survived</th>\n",
       "      <th>pclass</th>\n",
       "      <th>sex</th>\n",
       "      <th>age</th>\n",
       "      <th>sibsp</th>\n",
       "      <th>parch</th>\n",
       "      <th>fare</th>\n",
       "      <th>embarked</th>\n",
       "      <th>class</th>\n",
       "      <th>who</th>\n",
       "      <th>adult_male</th>\n",
       "      <th>deck</th>\n",
       "      <th>embark_town</th>\n",
       "      <th>alive</th>\n",
       "      <th>alone</th>\n",
       "    </tr>\n",
       "  </thead>\n",
       "  <tbody>\n",
       "    <tr>\n",
       "      <th>4</th>\n",
       "      <td>0</td>\n",
       "      <td>3</td>\n",
       "      <td>male</td>\n",
       "      <td>35.0</td>\n",
       "      <td>0</td>\n",
       "      <td>0</td>\n",
       "      <td>8.05</td>\n",
       "      <td>S</td>\n",
       "      <td>Third</td>\n",
       "      <td>man</td>\n",
       "      <td>True</td>\n",
       "      <td></td>\n",
       "      <td>Southampton</td>\n",
       "      <td>no</td>\n",
       "      <td>True</td>\n",
       "    </tr>\n",
       "    <tr>\n",
       "      <th>26</th>\n",
       "      <td>0</td>\n",
       "      <td>3</td>\n",
       "      <td>male</td>\n",
       "      <td></td>\n",
       "      <td>0</td>\n",
       "      <td>0</td>\n",
       "      <td>7.225</td>\n",
       "      <td>C</td>\n",
       "      <td>Third</td>\n",
       "      <td>man</td>\n",
       "      <td>True</td>\n",
       "      <td></td>\n",
       "      <td>Cherbourg</td>\n",
       "      <td>no</td>\n",
       "      <td>True</td>\n",
       "    </tr>\n",
       "    <tr>\n",
       "      <th>28</th>\n",
       "      <td>1</td>\n",
       "      <td>3</td>\n",
       "      <td>female</td>\n",
       "      <td></td>\n",
       "      <td>0</td>\n",
       "      <td>0</td>\n",
       "      <td>7.8792</td>\n",
       "      <td>Q</td>\n",
       "      <td>Third</td>\n",
       "      <td>woman</td>\n",
       "      <td>False</td>\n",
       "      <td></td>\n",
       "      <td>Queenstown</td>\n",
       "      <td>yes</td>\n",
       "      <td>True</td>\n",
       "    </tr>\n",
       "    <tr>\n",
       "      <th>29</th>\n",
       "      <td>0</td>\n",
       "      <td>3</td>\n",
       "      <td>male</td>\n",
       "      <td></td>\n",
       "      <td>0</td>\n",
       "      <td>0</td>\n",
       "      <td>7.8958</td>\n",
       "      <td>S</td>\n",
       "      <td>Third</td>\n",
       "      <td>man</td>\n",
       "      <td>True</td>\n",
       "      <td></td>\n",
       "      <td>Southampton</td>\n",
       "      <td>no</td>\n",
       "      <td>True</td>\n",
       "    </tr>\n",
       "    <tr>\n",
       "      <th>32</th>\n",
       "      <td>1</td>\n",
       "      <td>3</td>\n",
       "      <td>female</td>\n",
       "      <td></td>\n",
       "      <td>0</td>\n",
       "      <td>0</td>\n",
       "      <td>7.75</td>\n",
       "      <td>Q</td>\n",
       "      <td>Third</td>\n",
       "      <td>woman</td>\n",
       "      <td>False</td>\n",
       "      <td></td>\n",
       "      <td>Queenstown</td>\n",
       "      <td>yes</td>\n",
       "      <td>True</td>\n",
       "    </tr>\n",
       "  </tbody>\n",
       "</table>\n",
       "</div>"
      ],
      "text/plain": [
       "0  survived pclass     sex   age sibsp parch    fare embarked  class    who  \\\n",
       "4         0      3    male  35.0     0     0    8.05        S  Third    man   \n",
       "26        0      3    male           0     0   7.225        C  Third    man   \n",
       "28        1      3  female           0     0  7.8792        Q  Third  woman   \n",
       "29        0      3    male           0     0  7.8958        S  Third    man   \n",
       "32        1      3  female           0     0    7.75        Q  Third  woman   \n",
       "\n",
       "0  adult_male deck  embark_town alive alone  \n",
       "4        True       Southampton    no  True  \n",
       "26       True         Cherbourg    no  True  \n",
       "28      False        Queenstown   yes  True  \n",
       "29       True       Southampton    no  True  \n",
       "32      False        Queenstown   yes  True  "
      ]
     },
     "execution_count": 6,
     "metadata": {},
     "output_type": "execute_result"
    }
   ],
   "source": [
    "df[df.duplicated(keep=False)].head()"
   ]
  },
  {
   "cell_type": "code",
   "execution_count": 7,
   "id": "4b67e0af",
   "metadata": {},
   "outputs": [
    {
     "name": "stdout",
     "output_type": "stream",
     "text": [
      "(891, 15)\n"
     ]
    }
   ],
   "source": [
    "print(df.shape)"
   ]
  },
  {
   "cell_type": "code",
   "execution_count": 8,
   "id": "7063fdab",
   "metadata": {},
   "outputs": [
    {
     "data": {
      "text/html": [
       "<div>\n",
       "<style scoped>\n",
       "    .dataframe tbody tr th:only-of-type {\n",
       "        vertical-align: middle;\n",
       "    }\n",
       "\n",
       "    .dataframe tbody tr th {\n",
       "        vertical-align: top;\n",
       "    }\n",
       "\n",
       "    .dataframe thead th {\n",
       "        text-align: right;\n",
       "    }\n",
       "</style>\n",
       "<table border=\"1\" class=\"dataframe\">\n",
       "  <thead>\n",
       "    <tr style=\"text-align: right;\">\n",
       "      <th></th>\n",
       "      <th>survived</th>\n",
       "      <th>pclass</th>\n",
       "      <th>sex</th>\n",
       "      <th>age</th>\n",
       "      <th>sibsp</th>\n",
       "      <th>parch</th>\n",
       "      <th>fare</th>\n",
       "      <th>embarked</th>\n",
       "      <th>class</th>\n",
       "      <th>who</th>\n",
       "      <th>adult_male</th>\n",
       "      <th>deck</th>\n",
       "      <th>embark_town</th>\n",
       "      <th>alive</th>\n",
       "      <th>alone</th>\n",
       "    </tr>\n",
       "  </thead>\n",
       "  <tbody>\n",
       "    <tr>\n",
       "      <th>count</th>\n",
       "      <td>891</td>\n",
       "      <td>891</td>\n",
       "      <td>891</td>\n",
       "      <td>891</td>\n",
       "      <td>891</td>\n",
       "      <td>891</td>\n",
       "      <td>891</td>\n",
       "      <td>891</td>\n",
       "      <td>891</td>\n",
       "      <td>891</td>\n",
       "      <td>891</td>\n",
       "      <td>891</td>\n",
       "      <td>891</td>\n",
       "      <td>891</td>\n",
       "      <td>891</td>\n",
       "    </tr>\n",
       "    <tr>\n",
       "      <th>unique</th>\n",
       "      <td>2</td>\n",
       "      <td>3</td>\n",
       "      <td>2</td>\n",
       "      <td>89</td>\n",
       "      <td>7</td>\n",
       "      <td>7</td>\n",
       "      <td>248</td>\n",
       "      <td>4</td>\n",
       "      <td>3</td>\n",
       "      <td>3</td>\n",
       "      <td>2</td>\n",
       "      <td>8</td>\n",
       "      <td>4</td>\n",
       "      <td>2</td>\n",
       "      <td>2</td>\n",
       "    </tr>\n",
       "    <tr>\n",
       "      <th>top</th>\n",
       "      <td>0</td>\n",
       "      <td>3</td>\n",
       "      <td>male</td>\n",
       "      <td></td>\n",
       "      <td>0</td>\n",
       "      <td>0</td>\n",
       "      <td>8.05</td>\n",
       "      <td>S</td>\n",
       "      <td>Third</td>\n",
       "      <td>man</td>\n",
       "      <td>True</td>\n",
       "      <td></td>\n",
       "      <td>Southampton</td>\n",
       "      <td>no</td>\n",
       "      <td>True</td>\n",
       "    </tr>\n",
       "    <tr>\n",
       "      <th>freq</th>\n",
       "      <td>549</td>\n",
       "      <td>491</td>\n",
       "      <td>577</td>\n",
       "      <td>177</td>\n",
       "      <td>608</td>\n",
       "      <td>678</td>\n",
       "      <td>43</td>\n",
       "      <td>644</td>\n",
       "      <td>491</td>\n",
       "      <td>537</td>\n",
       "      <td>537</td>\n",
       "      <td>688</td>\n",
       "      <td>644</td>\n",
       "      <td>549</td>\n",
       "      <td>537</td>\n",
       "    </tr>\n",
       "  </tbody>\n",
       "</table>\n",
       "</div>"
      ],
      "text/plain": [
       "0      survived pclass   sex  age sibsp parch  fare embarked  class  who  \\\n",
       "count       891    891   891  891   891   891   891      891    891  891   \n",
       "unique        2      3     2   89     7     7   248        4      3    3   \n",
       "top           0      3  male          0     0  8.05        S  Third  man   \n",
       "freq        549    491   577  177   608   678    43      644    491  537   \n",
       "\n",
       "0      adult_male deck  embark_town alive alone  \n",
       "count         891  891          891   891   891  \n",
       "unique          2    8            4     2     2  \n",
       "top          True       Southampton    no  True  \n",
       "freq          537  688          644   549   537  "
      ]
     },
     "execution_count": 8,
     "metadata": {},
     "output_type": "execute_result"
    }
   ],
   "source": [
    "df.describe()"
   ]
  },
  {
   "cell_type": "code",
   "execution_count": 9,
   "id": "de2c8965",
   "metadata": {},
   "outputs": [
    {
     "data": {
      "text/plain": [
       "0\n",
       "survived       object\n",
       "pclass         object\n",
       "sex            object\n",
       "age            object\n",
       "sibsp          object\n",
       "parch          object\n",
       "fare           object\n",
       "embarked       object\n",
       "class          object\n",
       "who            object\n",
       "adult_male     object\n",
       "deck           object\n",
       "embark_town    object\n",
       "alive          object\n",
       "alone          object\n",
       "dtype: object"
      ]
     },
     "execution_count": 9,
     "metadata": {},
     "output_type": "execute_result"
    }
   ],
   "source": [
    "df.dtypes"
   ]
  },
  {
   "cell_type": "code",
   "execution_count": 10,
   "id": "50bfe5db",
   "metadata": {},
   "outputs": [
    {
     "data": {
      "text/plain": [
       "0\n",
       "survived       0\n",
       "pclass         0\n",
       "sex            0\n",
       "age            0\n",
       "sibsp          0\n",
       "parch          0\n",
       "fare           0\n",
       "embarked       0\n",
       "class          0\n",
       "who            0\n",
       "adult_male     0\n",
       "deck           0\n",
       "embark_town    0\n",
       "alive          0\n",
       "alone          0\n",
       "dtype: int64"
      ]
     },
     "execution_count": 10,
     "metadata": {},
     "output_type": "execute_result"
    }
   ],
   "source": [
    "df.isnull().sum()"
   ]
  },
  {
   "cell_type": "code",
   "execution_count": 11,
   "id": "3f7e974d",
   "metadata": {},
   "outputs": [
    {
     "data": {
      "text/plain": [
       "Series([], dtype: int64)"
      ]
     },
     "execution_count": 11,
     "metadata": {},
     "output_type": "execute_result"
    }
   ],
   "source": [
    "df.isnull().sum()[df.isnull().sum() > 0]"
   ]
  },
  {
   "cell_type": "code",
   "execution_count": 12,
   "id": "7c6974fa",
   "metadata": {},
   "outputs": [
    {
     "data": {
      "text/html": [
       "<div>\n",
       "<style scoped>\n",
       "    .dataframe tbody tr th:only-of-type {\n",
       "        vertical-align: middle;\n",
       "    }\n",
       "\n",
       "    .dataframe tbody tr th {\n",
       "        vertical-align: top;\n",
       "    }\n",
       "\n",
       "    .dataframe thead th {\n",
       "        text-align: right;\n",
       "    }\n",
       "</style>\n",
       "<table border=\"1\" class=\"dataframe\">\n",
       "  <thead>\n",
       "    <tr style=\"text-align: right;\">\n",
       "      <th></th>\n",
       "      <th>survived</th>\n",
       "      <th>pclass</th>\n",
       "      <th>sex</th>\n",
       "      <th>age</th>\n",
       "      <th>sibsp</th>\n",
       "      <th>parch</th>\n",
       "      <th>fare</th>\n",
       "      <th>embarked</th>\n",
       "      <th>class</th>\n",
       "      <th>who</th>\n",
       "      <th>adult_male</th>\n",
       "      <th>deck</th>\n",
       "      <th>embark_town</th>\n",
       "      <th>alive</th>\n",
       "      <th>alone</th>\n",
       "    </tr>\n",
       "  </thead>\n",
       "  <tbody>\n",
       "    <tr>\n",
       "      <th>47</th>\n",
       "      <td>1</td>\n",
       "      <td>3</td>\n",
       "      <td>female</td>\n",
       "      <td></td>\n",
       "      <td>0</td>\n",
       "      <td>0</td>\n",
       "      <td>7.75</td>\n",
       "      <td>Q</td>\n",
       "      <td>Third</td>\n",
       "      <td>woman</td>\n",
       "      <td>False</td>\n",
       "      <td></td>\n",
       "      <td>Queenstown</td>\n",
       "      <td>yes</td>\n",
       "      <td>True</td>\n",
       "    </tr>\n",
       "    <tr>\n",
       "      <th>76</th>\n",
       "      <td>0</td>\n",
       "      <td>3</td>\n",
       "      <td>male</td>\n",
       "      <td></td>\n",
       "      <td>0</td>\n",
       "      <td>0</td>\n",
       "      <td>7.8958</td>\n",
       "      <td>S</td>\n",
       "      <td>Third</td>\n",
       "      <td>man</td>\n",
       "      <td>True</td>\n",
       "      <td></td>\n",
       "      <td>Southampton</td>\n",
       "      <td>no</td>\n",
       "      <td>True</td>\n",
       "    </tr>\n",
       "    <tr>\n",
       "      <th>77</th>\n",
       "      <td>0</td>\n",
       "      <td>3</td>\n",
       "      <td>male</td>\n",
       "      <td></td>\n",
       "      <td>0</td>\n",
       "      <td>0</td>\n",
       "      <td>8.05</td>\n",
       "      <td>S</td>\n",
       "      <td>Third</td>\n",
       "      <td>man</td>\n",
       "      <td>True</td>\n",
       "      <td></td>\n",
       "      <td>Southampton</td>\n",
       "      <td>no</td>\n",
       "      <td>True</td>\n",
       "    </tr>\n",
       "    <tr>\n",
       "      <th>87</th>\n",
       "      <td>0</td>\n",
       "      <td>3</td>\n",
       "      <td>male</td>\n",
       "      <td></td>\n",
       "      <td>0</td>\n",
       "      <td>0</td>\n",
       "      <td>8.05</td>\n",
       "      <td>S</td>\n",
       "      <td>Third</td>\n",
       "      <td>man</td>\n",
       "      <td>True</td>\n",
       "      <td></td>\n",
       "      <td>Southampton</td>\n",
       "      <td>no</td>\n",
       "      <td>True</td>\n",
       "    </tr>\n",
       "    <tr>\n",
       "      <th>95</th>\n",
       "      <td>0</td>\n",
       "      <td>3</td>\n",
       "      <td>male</td>\n",
       "      <td></td>\n",
       "      <td>0</td>\n",
       "      <td>0</td>\n",
       "      <td>8.05</td>\n",
       "      <td>S</td>\n",
       "      <td>Third</td>\n",
       "      <td>man</td>\n",
       "      <td>True</td>\n",
       "      <td></td>\n",
       "      <td>Southampton</td>\n",
       "      <td>no</td>\n",
       "      <td>True</td>\n",
       "    </tr>\n",
       "    <tr>\n",
       "      <th>...</th>\n",
       "      <td>...</td>\n",
       "      <td>...</td>\n",
       "      <td>...</td>\n",
       "      <td>...</td>\n",
       "      <td>...</td>\n",
       "      <td>...</td>\n",
       "      <td>...</td>\n",
       "      <td>...</td>\n",
       "      <td>...</td>\n",
       "      <td>...</td>\n",
       "      <td>...</td>\n",
       "      <td>...</td>\n",
       "      <td>...</td>\n",
       "      <td>...</td>\n",
       "      <td>...</td>\n",
       "    </tr>\n",
       "    <tr>\n",
       "      <th>870</th>\n",
       "      <td>0</td>\n",
       "      <td>3</td>\n",
       "      <td>male</td>\n",
       "      <td>26.0</td>\n",
       "      <td>0</td>\n",
       "      <td>0</td>\n",
       "      <td>7.8958</td>\n",
       "      <td>S</td>\n",
       "      <td>Third</td>\n",
       "      <td>man</td>\n",
       "      <td>True</td>\n",
       "      <td></td>\n",
       "      <td>Southampton</td>\n",
       "      <td>no</td>\n",
       "      <td>True</td>\n",
       "    </tr>\n",
       "    <tr>\n",
       "      <th>877</th>\n",
       "      <td>0</td>\n",
       "      <td>3</td>\n",
       "      <td>male</td>\n",
       "      <td>19.0</td>\n",
       "      <td>0</td>\n",
       "      <td>0</td>\n",
       "      <td>7.8958</td>\n",
       "      <td>S</td>\n",
       "      <td>Third</td>\n",
       "      <td>man</td>\n",
       "      <td>True</td>\n",
       "      <td></td>\n",
       "      <td>Southampton</td>\n",
       "      <td>no</td>\n",
       "      <td>True</td>\n",
       "    </tr>\n",
       "    <tr>\n",
       "      <th>878</th>\n",
       "      <td>0</td>\n",
       "      <td>3</td>\n",
       "      <td>male</td>\n",
       "      <td></td>\n",
       "      <td>0</td>\n",
       "      <td>0</td>\n",
       "      <td>7.8958</td>\n",
       "      <td>S</td>\n",
       "      <td>Third</td>\n",
       "      <td>man</td>\n",
       "      <td>True</td>\n",
       "      <td></td>\n",
       "      <td>Southampton</td>\n",
       "      <td>no</td>\n",
       "      <td>True</td>\n",
       "    </tr>\n",
       "    <tr>\n",
       "      <th>884</th>\n",
       "      <td>0</td>\n",
       "      <td>3</td>\n",
       "      <td>male</td>\n",
       "      <td>25.0</td>\n",
       "      <td>0</td>\n",
       "      <td>0</td>\n",
       "      <td>7.05</td>\n",
       "      <td>S</td>\n",
       "      <td>Third</td>\n",
       "      <td>man</td>\n",
       "      <td>True</td>\n",
       "      <td></td>\n",
       "      <td>Southampton</td>\n",
       "      <td>no</td>\n",
       "      <td>True</td>\n",
       "    </tr>\n",
       "    <tr>\n",
       "      <th>886</th>\n",
       "      <td>0</td>\n",
       "      <td>2</td>\n",
       "      <td>male</td>\n",
       "      <td>27.0</td>\n",
       "      <td>0</td>\n",
       "      <td>0</td>\n",
       "      <td>13.0</td>\n",
       "      <td>S</td>\n",
       "      <td>Second</td>\n",
       "      <td>man</td>\n",
       "      <td>True</td>\n",
       "      <td></td>\n",
       "      <td>Southampton</td>\n",
       "      <td>no</td>\n",
       "      <td>True</td>\n",
       "    </tr>\n",
       "  </tbody>\n",
       "</table>\n",
       "<p>107 rows × 15 columns</p>\n",
       "</div>"
      ],
      "text/plain": [
       "0   survived pclass     sex   age sibsp parch    fare embarked   class    who  \\\n",
       "47         1      3  female           0     0    7.75        Q   Third  woman   \n",
       "76         0      3    male           0     0  7.8958        S   Third    man   \n",
       "77         0      3    male           0     0    8.05        S   Third    man   \n",
       "87         0      3    male           0     0    8.05        S   Third    man   \n",
       "95         0      3    male           0     0    8.05        S   Third    man   \n",
       "..       ...    ...     ...   ...   ...   ...     ...      ...     ...    ...   \n",
       "870        0      3    male  26.0     0     0  7.8958        S   Third    man   \n",
       "877        0      3    male  19.0     0     0  7.8958        S   Third    man   \n",
       "878        0      3    male           0     0  7.8958        S   Third    man   \n",
       "884        0      3    male  25.0     0     0    7.05        S   Third    man   \n",
       "886        0      2    male  27.0     0     0    13.0        S  Second    man   \n",
       "\n",
       "0   adult_male deck  embark_town alive alone  \n",
       "47       False        Queenstown   yes  True  \n",
       "76        True       Southampton    no  True  \n",
       "77        True       Southampton    no  True  \n",
       "87        True       Southampton    no  True  \n",
       "95        True       Southampton    no  True  \n",
       "..         ...  ...          ...   ...   ...  \n",
       "870       True       Southampton    no  True  \n",
       "877       True       Southampton    no  True  \n",
       "878       True       Southampton    no  True  \n",
       "884       True       Southampton    no  True  \n",
       "886       True       Southampton    no  True  \n",
       "\n",
       "[107 rows x 15 columns]"
      ]
     },
     "execution_count": 12,
     "metadata": {},
     "output_type": "execute_result"
    }
   ],
   "source": [
    "duplicates = df[df.duplicated()]\n",
    "duplicates"
   ]
  },
  {
   "cell_type": "code",
   "execution_count": 13,
   "id": "57e061d5",
   "metadata": {},
   "outputs": [],
   "source": [
    "df['age'] = pd.to_numeric(df['age'], errors='coerce')\n",
    "df['fare'] = pd.to_numeric(df['fare'], errors='coerce')\n",
    "df['survived'] = df['survived'].astype(int)"
   ]
  },
  {
   "cell_type": "code",
   "execution_count": 14,
   "id": "c43ddb47",
   "metadata": {},
   "outputs": [],
   "source": [
    "df['age'].fillna(df['age'].median(), inplace=True)\n",
    "df['embarked'].fillna(df['embarked'].mode()[0], inplace=True)\n",
    "df.drop(columns=['deck'], inplace=True)  # or simplify"
   ]
  },
  {
   "cell_type": "code",
   "execution_count": 15,
   "id": "d4c6917b",
   "metadata": {},
   "outputs": [],
   "source": [
    "df.duplicated().sum()\n",
    "df.drop_duplicates(inplace=True)"
   ]
  },
  {
   "cell_type": "markdown",
   "id": "198068ea",
   "metadata": {},
   "source": [
    "## Time for anlysis 😀😀😃😃😃"
   ]
  },
  {
   "cell_type": "code",
   "execution_count": 16,
   "id": "d65685ef",
   "metadata": {},
   "outputs": [
    {
     "data": {
      "text/html": [
       "<div>\n",
       "<style scoped>\n",
       "    .dataframe tbody tr th:only-of-type {\n",
       "        vertical-align: middle;\n",
       "    }\n",
       "\n",
       "    .dataframe tbody tr th {\n",
       "        vertical-align: top;\n",
       "    }\n",
       "\n",
       "    .dataframe thead th {\n",
       "        text-align: right;\n",
       "    }\n",
       "</style>\n",
       "<table border=\"1\" class=\"dataframe\">\n",
       "  <thead>\n",
       "    <tr style=\"text-align: right;\">\n",
       "      <th></th>\n",
       "      <th>survived</th>\n",
       "      <th>pclass</th>\n",
       "      <th>sex</th>\n",
       "      <th>age</th>\n",
       "      <th>sibsp</th>\n",
       "      <th>parch</th>\n",
       "      <th>fare</th>\n",
       "      <th>embarked</th>\n",
       "      <th>class</th>\n",
       "      <th>who</th>\n",
       "      <th>adult_male</th>\n",
       "      <th>embark_town</th>\n",
       "      <th>alive</th>\n",
       "      <th>alone</th>\n",
       "    </tr>\n",
       "  </thead>\n",
       "  <tbody>\n",
       "    <tr>\n",
       "      <th>0</th>\n",
       "      <td>0</td>\n",
       "      <td>3</td>\n",
       "      <td>male</td>\n",
       "      <td>22.0</td>\n",
       "      <td>1</td>\n",
       "      <td>0</td>\n",
       "      <td>7.2500</td>\n",
       "      <td>S</td>\n",
       "      <td>Third</td>\n",
       "      <td>man</td>\n",
       "      <td>True</td>\n",
       "      <td>Southampton</td>\n",
       "      <td>no</td>\n",
       "      <td>False</td>\n",
       "    </tr>\n",
       "    <tr>\n",
       "      <th>1</th>\n",
       "      <td>1</td>\n",
       "      <td>1</td>\n",
       "      <td>female</td>\n",
       "      <td>38.0</td>\n",
       "      <td>1</td>\n",
       "      <td>0</td>\n",
       "      <td>71.2833</td>\n",
       "      <td>C</td>\n",
       "      <td>First</td>\n",
       "      <td>woman</td>\n",
       "      <td>False</td>\n",
       "      <td>Cherbourg</td>\n",
       "      <td>yes</td>\n",
       "      <td>False</td>\n",
       "    </tr>\n",
       "    <tr>\n",
       "      <th>2</th>\n",
       "      <td>1</td>\n",
       "      <td>3</td>\n",
       "      <td>female</td>\n",
       "      <td>26.0</td>\n",
       "      <td>0</td>\n",
       "      <td>0</td>\n",
       "      <td>7.9250</td>\n",
       "      <td>S</td>\n",
       "      <td>Third</td>\n",
       "      <td>woman</td>\n",
       "      <td>False</td>\n",
       "      <td>Southampton</td>\n",
       "      <td>yes</td>\n",
       "      <td>True</td>\n",
       "    </tr>\n",
       "    <tr>\n",
       "      <th>3</th>\n",
       "      <td>1</td>\n",
       "      <td>1</td>\n",
       "      <td>female</td>\n",
       "      <td>35.0</td>\n",
       "      <td>1</td>\n",
       "      <td>0</td>\n",
       "      <td>53.1000</td>\n",
       "      <td>S</td>\n",
       "      <td>First</td>\n",
       "      <td>woman</td>\n",
       "      <td>False</td>\n",
       "      <td>Southampton</td>\n",
       "      <td>yes</td>\n",
       "      <td>False</td>\n",
       "    </tr>\n",
       "    <tr>\n",
       "      <th>4</th>\n",
       "      <td>0</td>\n",
       "      <td>3</td>\n",
       "      <td>male</td>\n",
       "      <td>35.0</td>\n",
       "      <td>0</td>\n",
       "      <td>0</td>\n",
       "      <td>8.0500</td>\n",
       "      <td>S</td>\n",
       "      <td>Third</td>\n",
       "      <td>man</td>\n",
       "      <td>True</td>\n",
       "      <td>Southampton</td>\n",
       "      <td>no</td>\n",
       "      <td>True</td>\n",
       "    </tr>\n",
       "    <tr>\n",
       "      <th>5</th>\n",
       "      <td>0</td>\n",
       "      <td>3</td>\n",
       "      <td>male</td>\n",
       "      <td>28.0</td>\n",
       "      <td>0</td>\n",
       "      <td>0</td>\n",
       "      <td>8.4583</td>\n",
       "      <td>Q</td>\n",
       "      <td>Third</td>\n",
       "      <td>man</td>\n",
       "      <td>True</td>\n",
       "      <td>Queenstown</td>\n",
       "      <td>no</td>\n",
       "      <td>True</td>\n",
       "    </tr>\n",
       "    <tr>\n",
       "      <th>6</th>\n",
       "      <td>0</td>\n",
       "      <td>1</td>\n",
       "      <td>male</td>\n",
       "      <td>54.0</td>\n",
       "      <td>0</td>\n",
       "      <td>0</td>\n",
       "      <td>51.8625</td>\n",
       "      <td>S</td>\n",
       "      <td>First</td>\n",
       "      <td>man</td>\n",
       "      <td>True</td>\n",
       "      <td>Southampton</td>\n",
       "      <td>no</td>\n",
       "      <td>True</td>\n",
       "    </tr>\n",
       "    <tr>\n",
       "      <th>7</th>\n",
       "      <td>0</td>\n",
       "      <td>3</td>\n",
       "      <td>male</td>\n",
       "      <td>2.0</td>\n",
       "      <td>3</td>\n",
       "      <td>1</td>\n",
       "      <td>21.0750</td>\n",
       "      <td>S</td>\n",
       "      <td>Third</td>\n",
       "      <td>child</td>\n",
       "      <td>False</td>\n",
       "      <td>Southampton</td>\n",
       "      <td>no</td>\n",
       "      <td>False</td>\n",
       "    </tr>\n",
       "    <tr>\n",
       "      <th>8</th>\n",
       "      <td>1</td>\n",
       "      <td>3</td>\n",
       "      <td>female</td>\n",
       "      <td>27.0</td>\n",
       "      <td>0</td>\n",
       "      <td>2</td>\n",
       "      <td>11.1333</td>\n",
       "      <td>S</td>\n",
       "      <td>Third</td>\n",
       "      <td>woman</td>\n",
       "      <td>False</td>\n",
       "      <td>Southampton</td>\n",
       "      <td>yes</td>\n",
       "      <td>False</td>\n",
       "    </tr>\n",
       "    <tr>\n",
       "      <th>9</th>\n",
       "      <td>1</td>\n",
       "      <td>2</td>\n",
       "      <td>female</td>\n",
       "      <td>14.0</td>\n",
       "      <td>1</td>\n",
       "      <td>0</td>\n",
       "      <td>30.0708</td>\n",
       "      <td>C</td>\n",
       "      <td>Second</td>\n",
       "      <td>child</td>\n",
       "      <td>False</td>\n",
       "      <td>Cherbourg</td>\n",
       "      <td>yes</td>\n",
       "      <td>False</td>\n",
       "    </tr>\n",
       "    <tr>\n",
       "      <th>10</th>\n",
       "      <td>1</td>\n",
       "      <td>3</td>\n",
       "      <td>female</td>\n",
       "      <td>4.0</td>\n",
       "      <td>1</td>\n",
       "      <td>1</td>\n",
       "      <td>16.7000</td>\n",
       "      <td>S</td>\n",
       "      <td>Third</td>\n",
       "      <td>child</td>\n",
       "      <td>False</td>\n",
       "      <td>Southampton</td>\n",
       "      <td>yes</td>\n",
       "      <td>False</td>\n",
       "    </tr>\n",
       "    <tr>\n",
       "      <th>11</th>\n",
       "      <td>1</td>\n",
       "      <td>1</td>\n",
       "      <td>female</td>\n",
       "      <td>58.0</td>\n",
       "      <td>0</td>\n",
       "      <td>0</td>\n",
       "      <td>26.5500</td>\n",
       "      <td>S</td>\n",
       "      <td>First</td>\n",
       "      <td>woman</td>\n",
       "      <td>False</td>\n",
       "      <td>Southampton</td>\n",
       "      <td>yes</td>\n",
       "      <td>True</td>\n",
       "    </tr>\n",
       "    <tr>\n",
       "      <th>12</th>\n",
       "      <td>0</td>\n",
       "      <td>3</td>\n",
       "      <td>male</td>\n",
       "      <td>20.0</td>\n",
       "      <td>0</td>\n",
       "      <td>0</td>\n",
       "      <td>8.0500</td>\n",
       "      <td>S</td>\n",
       "      <td>Third</td>\n",
       "      <td>man</td>\n",
       "      <td>True</td>\n",
       "      <td>Southampton</td>\n",
       "      <td>no</td>\n",
       "      <td>True</td>\n",
       "    </tr>\n",
       "    <tr>\n",
       "      <th>13</th>\n",
       "      <td>0</td>\n",
       "      <td>3</td>\n",
       "      <td>male</td>\n",
       "      <td>39.0</td>\n",
       "      <td>1</td>\n",
       "      <td>5</td>\n",
       "      <td>31.2750</td>\n",
       "      <td>S</td>\n",
       "      <td>Third</td>\n",
       "      <td>man</td>\n",
       "      <td>True</td>\n",
       "      <td>Southampton</td>\n",
       "      <td>no</td>\n",
       "      <td>False</td>\n",
       "    </tr>\n",
       "    <tr>\n",
       "      <th>14</th>\n",
       "      <td>0</td>\n",
       "      <td>3</td>\n",
       "      <td>female</td>\n",
       "      <td>14.0</td>\n",
       "      <td>0</td>\n",
       "      <td>0</td>\n",
       "      <td>7.8542</td>\n",
       "      <td>S</td>\n",
       "      <td>Third</td>\n",
       "      <td>child</td>\n",
       "      <td>False</td>\n",
       "      <td>Southampton</td>\n",
       "      <td>no</td>\n",
       "      <td>True</td>\n",
       "    </tr>\n",
       "    <tr>\n",
       "      <th>15</th>\n",
       "      <td>1</td>\n",
       "      <td>2</td>\n",
       "      <td>female</td>\n",
       "      <td>55.0</td>\n",
       "      <td>0</td>\n",
       "      <td>0</td>\n",
       "      <td>16.0000</td>\n",
       "      <td>S</td>\n",
       "      <td>Second</td>\n",
       "      <td>woman</td>\n",
       "      <td>False</td>\n",
       "      <td>Southampton</td>\n",
       "      <td>yes</td>\n",
       "      <td>True</td>\n",
       "    </tr>\n",
       "    <tr>\n",
       "      <th>16</th>\n",
       "      <td>0</td>\n",
       "      <td>3</td>\n",
       "      <td>male</td>\n",
       "      <td>2.0</td>\n",
       "      <td>4</td>\n",
       "      <td>1</td>\n",
       "      <td>29.1250</td>\n",
       "      <td>Q</td>\n",
       "      <td>Third</td>\n",
       "      <td>child</td>\n",
       "      <td>False</td>\n",
       "      <td>Queenstown</td>\n",
       "      <td>no</td>\n",
       "      <td>False</td>\n",
       "    </tr>\n",
       "    <tr>\n",
       "      <th>17</th>\n",
       "      <td>1</td>\n",
       "      <td>2</td>\n",
       "      <td>male</td>\n",
       "      <td>28.0</td>\n",
       "      <td>0</td>\n",
       "      <td>0</td>\n",
       "      <td>13.0000</td>\n",
       "      <td>S</td>\n",
       "      <td>Second</td>\n",
       "      <td>man</td>\n",
       "      <td>True</td>\n",
       "      <td>Southampton</td>\n",
       "      <td>yes</td>\n",
       "      <td>True</td>\n",
       "    </tr>\n",
       "    <tr>\n",
       "      <th>18</th>\n",
       "      <td>0</td>\n",
       "      <td>3</td>\n",
       "      <td>female</td>\n",
       "      <td>31.0</td>\n",
       "      <td>1</td>\n",
       "      <td>0</td>\n",
       "      <td>18.0000</td>\n",
       "      <td>S</td>\n",
       "      <td>Third</td>\n",
       "      <td>woman</td>\n",
       "      <td>False</td>\n",
       "      <td>Southampton</td>\n",
       "      <td>no</td>\n",
       "      <td>False</td>\n",
       "    </tr>\n",
       "    <tr>\n",
       "      <th>19</th>\n",
       "      <td>1</td>\n",
       "      <td>3</td>\n",
       "      <td>female</td>\n",
       "      <td>28.0</td>\n",
       "      <td>0</td>\n",
       "      <td>0</td>\n",
       "      <td>7.2250</td>\n",
       "      <td>C</td>\n",
       "      <td>Third</td>\n",
       "      <td>woman</td>\n",
       "      <td>False</td>\n",
       "      <td>Cherbourg</td>\n",
       "      <td>yes</td>\n",
       "      <td>True</td>\n",
       "    </tr>\n",
       "  </tbody>\n",
       "</table>\n",
       "</div>"
      ],
      "text/plain": [
       "0   survived pclass     sex   age sibsp parch     fare embarked   class  \\\n",
       "0          0      3    male  22.0     1     0   7.2500        S   Third   \n",
       "1          1      1  female  38.0     1     0  71.2833        C   First   \n",
       "2          1      3  female  26.0     0     0   7.9250        S   Third   \n",
       "3          1      1  female  35.0     1     0  53.1000        S   First   \n",
       "4          0      3    male  35.0     0     0   8.0500        S   Third   \n",
       "5          0      3    male  28.0     0     0   8.4583        Q   Third   \n",
       "6          0      1    male  54.0     0     0  51.8625        S   First   \n",
       "7          0      3    male   2.0     3     1  21.0750        S   Third   \n",
       "8          1      3  female  27.0     0     2  11.1333        S   Third   \n",
       "9          1      2  female  14.0     1     0  30.0708        C  Second   \n",
       "10         1      3  female   4.0     1     1  16.7000        S   Third   \n",
       "11         1      1  female  58.0     0     0  26.5500        S   First   \n",
       "12         0      3    male  20.0     0     0   8.0500        S   Third   \n",
       "13         0      3    male  39.0     1     5  31.2750        S   Third   \n",
       "14         0      3  female  14.0     0     0   7.8542        S   Third   \n",
       "15         1      2  female  55.0     0     0  16.0000        S  Second   \n",
       "16         0      3    male   2.0     4     1  29.1250        Q   Third   \n",
       "17         1      2    male  28.0     0     0  13.0000        S  Second   \n",
       "18         0      3  female  31.0     1     0  18.0000        S   Third   \n",
       "19         1      3  female  28.0     0     0   7.2250        C   Third   \n",
       "\n",
       "0     who adult_male  embark_town alive  alone  \n",
       "0     man       True  Southampton    no  False  \n",
       "1   woman      False    Cherbourg   yes  False  \n",
       "2   woman      False  Southampton   yes   True  \n",
       "3   woman      False  Southampton   yes  False  \n",
       "4     man       True  Southampton    no   True  \n",
       "5     man       True   Queenstown    no   True  \n",
       "6     man       True  Southampton    no   True  \n",
       "7   child      False  Southampton    no  False  \n",
       "8   woman      False  Southampton   yes  False  \n",
       "9   child      False    Cherbourg   yes  False  \n",
       "10  child      False  Southampton   yes  False  \n",
       "11  woman      False  Southampton   yes   True  \n",
       "12    man       True  Southampton    no   True  \n",
       "13    man       True  Southampton    no  False  \n",
       "14  child      False  Southampton    no   True  \n",
       "15  woman      False  Southampton   yes   True  \n",
       "16  child      False   Queenstown    no  False  \n",
       "17    man       True  Southampton   yes   True  \n",
       "18  woman      False  Southampton    no  False  \n",
       "19  woman      False    Cherbourg   yes   True  "
      ]
     },
     "execution_count": 16,
     "metadata": {},
     "output_type": "execute_result"
    }
   ],
   "source": [
    "df.head(20)"
   ]
  },
  {
   "cell_type": "markdown",
   "id": "8edcaa10",
   "metadata": {},
   "source": [
    "# 1. What is the survival rate of passengers?\n"
   ]
  },
  {
   "cell_type": "code",
   "execution_count": 17,
   "id": "f50696b2",
   "metadata": {},
   "outputs": [
    {
     "name": "stdout",
     "output_type": "stream",
     "text": [
      "Survival rate: 41.29%\n"
     ]
    }
   ],
   "source": [
    "survival_rate = df['survived'].astype(int).mean()\n",
    "print(f\"Survival rate: {survival_rate:.2%}\")"
   ]
  },
  {
   "cell_type": "markdown",
   "id": "4042cbb2",
   "metadata": {},
   "source": [
    "# 2. What is the gender distribution of passengers?"
   ]
  },
  {
   "cell_type": "code",
   "execution_count": 18,
   "id": "0ab04107",
   "metadata": {},
   "outputs": [
    {
     "data": {
      "text/plain": [
       "male      62.322581\n",
       "female    37.677419\n",
       "Name: sex, dtype: float64"
      ]
     },
     "execution_count": 18,
     "metadata": {},
     "output_type": "execute_result"
    }
   ],
   "source": [
    "df['sex'].value_counts() #gives you the Count of Male and females \n",
    "\n",
    "\n",
    "df['sex'].value_counts(normalize=True) * 100 # Male X Female distribuition "
   ]
  },
  {
   "cell_type": "code",
   "execution_count": 19,
   "id": "b75c1d3c",
   "metadata": {},
   "outputs": [
    {
     "data": {
      "image/png": "[encoded data removed]",
      "text/plain": [
       "<Figure size 648x504 with 1 Axes>"
      ]
     },
     "metadata": {},
     "output_type": "display_data"
    }
   ],
   "source": [
    "# Get gender counts\n",
    "gender_counts = df['sex'].value_counts()\n",
    "\n",
    "# Create pie chart\n",
    "plt.figure(figsize=(9,7))\n",
    "plt.pie(\n",
    "    gender_counts, \n",
    "    labels=gender_counts.index, \n",
    "    autopct='%1.1f%%', \n",
    "    colors=['skyblue', 'lightpink'], \n",
    "    startangle=150, \n",
    "    explode=(0.03, 0)  # Slightly separate the first slice\n",
    ")\n",
    "plt.title('Gender Distribution of each Titanic Passengers',loc='right')\n",
    "plt.legend(gender_counts.index, title='Gender', loc='best')\n",
    "plt.axis('equal')  # Equal aspect ratio ensures pie is circular\n",
    "plt.show()"
   ]
  },
  {
   "cell_type": "markdown",
   "id": "da645f38",
   "metadata": {},
   "source": [
    "## 3. How does survival rate differ by class?"
   ]
  },
  {
   "cell_type": "code",
   "execution_count": 20,
   "id": "cf971db7",
   "metadata": {},
   "outputs": [
    {
     "data": {
      "text/plain": [
       "array([0, 1])"
      ]
     },
     "execution_count": 20,
     "metadata": {},
     "output_type": "execute_result"
    }
   ],
   "source": [
    "df['survived'].unique() #To confirm the classes of survivals "
   ]
  },
  {
   "cell_type": "code",
   "execution_count": 21,
   "id": "48f4dafa",
   "metadata": {},
   "outputs": [
    {
     "name": "stdout",
     "output_type": "stream",
     "text": [
      "pclass\n",
      "1    0.633\n",
      "2    0.506\n",
      "3    0.259\n",
      "Name: survived, dtype: float64\n"
     ]
    }
   ],
   "source": [
    "survival_by_class = df.groupby('pclass')['survived'].mean().round(3)\n",
    "print(survival_by_class)"
   ]
  },
  {
   "cell_type": "code",
   "execution_count": 22,
   "id": "5cc9122e",
   "metadata": {},
   "outputs": [
    {
     "data": {
      "image/png": "[encoded data removed]",
      "text/plain": [
       "<Figure size 864x576 with 1 Axes>"
      ]
     },
     "metadata": {
      "needs_background": "light"
     },
     "output_type": "display_data"
    }
   ],
   "source": [
    "# Group and calculate survival rate\n",
    "survival_by_class = df.groupby('pclass')['survived'].mean().reset_index()\n",
    "\n",
    "# Plot bar chart\n",
    "plt.figure(figsize=(12, 8))\n",
    "sns.barplot(x='pclass', y='survived', data=survival_by_class, palette='Greens')\n",
    "plt.title('Survival Rate by Passenger Class')\n",
    "plt.xlabel('Passenger Class')\n",
    "plt.ylabel('Survival Rate')\n",
    "plt.ylim(0, 1)  # Set y-axis range from 0 to 1\n",
    "plt.xticks([0, 1, 2], ['1st Class', '2nd Class', '3rd Class'])\n",
    "\n",
    "plt.show()"
   ]
  },
  {
   "cell_type": "markdown",
   "id": "bc96e028",
   "metadata": {},
   "source": [
    "\n",
    "## 4 What is the distribution of passenger ages?"
   ]
  },
  {
   "cell_type": "code",
   "execution_count": 23,
   "id": "09fcafdf",
   "metadata": {},
   "outputs": [
    {
     "data": {
      "text/plain": [
       "count    775.000000\n",
       "mean      29.581187\n",
       "std       13.766359\n",
       "min        0.420000\n",
       "25%       21.000000\n",
       "50%       28.000000\n",
       "75%       36.000000\n",
       "max       80.000000\n",
       "Name: age, dtype: float64"
      ]
     },
     "execution_count": 23,
     "metadata": {},
     "output_type": "execute_result"
    }
   ],
   "source": [
    "df['age'].describe()"
   ]
  },
  {
   "cell_type": "code",
   "execution_count": 24,
   "id": "e7ea8f15",
   "metadata": {},
   "outputs": [
    {
     "data": {
      "text/plain": [
       "6    54.0\n",
       "1    38.0\n",
       "3    35.0\n",
       "4    35.0\n",
       "5    28.0\n",
       "8    27.0\n",
       "2    26.0\n",
       "0    22.0\n",
       "9    14.0\n",
       "7     2.0\n",
       "Name: age, dtype: float64"
      ]
     },
     "execution_count": 24,
     "metadata": {},
     "output_type": "execute_result"
    }
   ],
   "source": [
    "df['age'].head(10).sort_values(ascending=False) #to confirm the highest age"
   ]
  },
  {
   "cell_type": "code",
   "execution_count": 25,
   "id": "7e25e53b",
   "metadata": {},
   "outputs": [
    {
     "data": {
      "image/png": "[encoded data removed]",
      "text/plain": [
       "<Figure size 648x504 with 1 Axes>"
      ]
     },
     "metadata": {
      "needs_background": "light"
     },
     "output_type": "display_data"
    }
   ],
   "source": [
    "plt.figure(figsize=(9,7))\n",
    "sns.histplot(df['age'], bins=30, kde=True, color='teal')\n",
    "plt.title('Distribution of Passenger Ages')\n",
    "plt.xlabel('Age (years)')\n",
    "plt.ylabel('Number of Passengers')\n",
    "plt.grid(True)\n",
    "plt.show()"
   ]
  },
  {
   "cell_type": "markdown",
   "id": "413f1ea8",
   "metadata": {},
   "source": [
    "# 5. How many passengers embarked from each location?"
   ]
  },
  {
   "cell_type": "code",
   "execution_count": 26,
   "id": "ff9bba64",
   "metadata": {},
   "outputs": [
    {
     "data": {
      "text/plain": [
       "S    560\n",
       "C    155\n",
       "Q     58\n",
       "       2\n",
       "Name: embarked, dtype: int64"
      ]
     },
     "execution_count": 26,
     "metadata": {},
     "output_type": "execute_result"
    }
   ],
   "source": [
    "df['embarked'].value_counts()"
   ]
  },
  {
   "cell_type": "code",
   "execution_count": 27,
   "id": "3b42ab94",
   "metadata": {},
   "outputs": [
    {
     "data": {
      "image/png": "[encoded data removed]",
      "text/plain": [
       "<Figure size 864x576 with 1 Axes>"
      ]
     },
     "metadata": {
      "needs_background": "light"
     },
     "output_type": "display_data"
    }
   ],
   "source": [
    "plt.figure(figsize=(12,8))\n",
    "sns.countplot(x='embarked', data=df, palette='pastel')\n",
    "plt.title('Passengers by Embarkation Port')\n",
    "plt.xlabel('Port of Embarkation')\n",
    "plt.ylabel('Passenger Count')\n",
    "plt.show()"
   ]
  },
  {
   "cell_type": "markdown",
   "id": "6b6d3e36",
   "metadata": {},
   "source": [
    "# 6. What is the average fare paid per class?"
   ]
  },
  {
   "cell_type": "code",
   "execution_count": 28,
   "id": "8cc1228a",
   "metadata": {},
   "outputs": [
    {
     "name": "stdout",
     "output_type": "stream",
     "text": [
      "pclass\n",
      "1    85.68\n",
      "2    21.89\n",
      "3    13.59\n",
      "Name: fare, dtype: float64\n"
     ]
    }
   ],
   "source": [
    "average_fare_per_class = df.groupby('pclass')['fare'].mean().round(2)\n",
    "print(average_fare_per_class)\n",
    "\n",
    "#This means: Passengers in 1st class paid an average fare of $84.15 2nd class: about $20.66 3rd class: about $13.68"
   ]
  },
  {
   "cell_type": "markdown",
   "id": "b842400b",
   "metadata": {},
   "source": [
    "# 7. How does gender affect survival rates?"
   ]
  },
  {
   "cell_type": "code",
   "execution_count": 29,
   "id": "be0e2037",
   "metadata": {},
   "outputs": [
    {
     "name": "stdout",
     "output_type": "stream",
     "text": [
      "sex\n",
      "female    0.740\n",
      "male      0.215\n",
      "Name: survived, dtype: float64\n"
     ]
    }
   ],
   "source": [
    "gender_survival = df.groupby('sex')['survived'].mean().round(3)\n",
    "print(gender_survival)"
   ]
  },
  {
   "cell_type": "code",
   "execution_count": 41,
   "id": "39cdc502",
   "metadata": {},
   "outputs": [
    {
     "data": {
      "image/png": "[encoded data removed]",
      "text/plain": [
       "<Figure size 432x288 with 1 Axes>"
      ]
     },
     "metadata": {
      "needs_background": "light"
     },
     "output_type": "display_data"
    }
   ],
   "source": [
    "plt.figure(figsize=(6,4))\n",
    "sns.violinplot(x='sex', y='survived', data=df, palette='pastel')\n",
    "plt.title('Survival Rate by Gender')\n",
    "plt.xlabel('Gender')\n",
    "plt.ylabel('Survival Rate')\n",
    "plt.ylim(0, 1)\n",
    "plt.grid(True)\n",
    "plt.show()"
   ]
  },
  {
   "cell_type": "markdown",
   "id": "32f7ca13",
   "metadata": {},
   "source": [
    "# 8. What is the correlation between fare and survival?"
   ]
  },
  {
   "cell_type": "code",
   "execution_count": 31,
   "id": "aba95cb0",
   "metadata": {},
   "outputs": [
    {
     "name": "stdout",
     "output_type": "stream",
     "text": [
      "Correlation between Fare and Survival: 0.247\n"
     ]
    }
   ],
   "source": [
    "correlation = df['fare'].corr(df['survived'])\n",
    "print(\"Correlation between Fare and Survival:\", round(correlation, 3))"
   ]
  },
  {
   "cell_type": "markdown",
   "id": "2f579346",
   "metadata": {},
   "source": [
    "# 9. How does the number of siblings/ spouses aboard affect survival?"
   ]
  },
  {
   "cell_type": "code",
   "execution_count": 32,
   "id": "12533112",
   "metadata": {},
   "outputs": [
    {
     "name": "stdout",
     "output_type": "stream",
     "text": [
      "sibsp\n",
      "0    0.382\n",
      "1    0.532\n",
      "2    0.444\n",
      "3    0.286\n",
      "4    0.167\n",
      "5    0.000\n",
      "8    0.000\n",
      "Name: survived, dtype: float64\n"
     ]
    },
    {
     "data": {
      "text/plain": [
       "'\\nInterpretation:\\n\\nPassengers with 1 sibling/spouse had the highest survival rate.\\n\\nLarger families (≥4 sibsp) had much lower survival rates.\\n\\nSolo travelers (0 sibsp) had a moderate survival rate.\\n\\n'"
      ]
     },
     "execution_count": 32,
     "metadata": {},
     "output_type": "execute_result"
    }
   ],
   "source": [
    "sibsp_survival = df.groupby('sibsp')['survived'].mean().round(3)\n",
    "print(sibsp_survival)\n",
    "\n",
    "'''\n",
    "Interpretation:\n",
    "\n",
    "Passengers with 1 sibling/spouse had the highest survival rate.\n",
    "\n",
    "Larger families (≥4 sibsp) had much lower survival rates.\n",
    "\n",
    "Solo travelers (0 sibsp) had a moderate survival rate.\n",
    "\n",
    "'''"
   ]
  },
  {
   "cell_type": "markdown",
   "id": "2e0e46ad",
   "metadata": {},
   "source": [
    "# 10. What is the age distribution by class?"
   ]
  },
  {
   "cell_type": "code",
   "execution_count": 33,
   "id": "48d7c98e",
   "metadata": {},
   "outputs": [
    {
     "name": "stdout",
     "output_type": "stream",
     "text": [
      "        count       mean        std   min   25%   50%     75%   max\n",
      "pclass                                                             \n",
      "1       210.0  36.921048  14.198138  0.92  28.0  35.0  47.750  80.0\n",
      "2       164.0  29.791646  14.203097  0.67  23.0  29.0  36.125  70.0\n",
      "3       401.0  25.651297  11.635682  0.42  19.0  27.0  30.000  74.0\n"
     ]
    }
   ],
   "source": [
    "age_by_class = df.groupby('pclass')['age'].describe()\n",
    "print(age_by_class)"
   ]
  },
  {
   "cell_type": "code",
   "execution_count": 34,
   "id": "e007e929",
   "metadata": {},
   "outputs": [
    {
     "data": {
      "image/png": "[encoded data removed]",
      "text/plain": [
       "<Figure size 258.375x216 with 1 Axes>"
      ]
     },
     "metadata": {
      "needs_background": "light"
     },
     "output_type": "display_data"
    }
   ],
   "source": [
    "sns.FacetGrid(df,hue='pclass').map(sns.kdeplot, 'survived').add_legend()\n",
    "plt.title('Age Distribution by Class')\n",
    "plt.xlabel('Passenger Class')\n",
    "plt.ylabel('Age')\n",
    "plt.grid(True)\n",
    "plt.show()"
   ]
  },
  {
   "cell_type": "code",
   "execution_count": 35,
   "id": "a96d1ed8",
   "metadata": {},
   "outputs": [
    {
     "data": {
      "image/png": "[encoded data removed]",
      "text/plain": [
       "<Figure size 697.575x504 with 1 Axes>"
      ]
     },
     "metadata": {
      "needs_background": "light"
     },
     "output_type": "display_data"
    }
   ],
   "source": [
    "# i love this plot so much i want to make it bigger 😃\n",
    "\n",
    "# Set up the FacetGrid with desired size\n",
    "g = sns.FacetGrid(df, hue='pclass', height=7, aspect=1.3)\n",
    "\n",
    "# Map the KDE plot\n",
    "g.map(sns.kdeplot, 'survived').add_legend()\n",
    "\n",
    "# Add labels and title\n",
    "plt.title('Age Distribution by Class')\n",
    "plt.xlabel('Passenger Class')\n",
    "plt.ylabel('Age')\n",
    "plt.grid(True)\n",
    "plt.show()"
   ]
  },
  {
   "cell_type": "markdown",
   "id": "df9f3dcf",
   "metadata": {},
   "source": [
    "# 11. What is the survival rate by embarkation point?"
   ]
  },
  {
   "cell_type": "code",
   "execution_count": 36,
   "id": "a52f91be",
   "metadata": {},
   "outputs": [
    {
     "name": "stdout",
     "output_type": "stream",
     "text": [
      "embarked\n",
      "     1.000\n",
      "C    0.581\n",
      "Q    0.345\n",
      "S    0.371\n",
      "Name: survived, dtype: float64\n"
     ]
    },
    {
     "data": {
      "text/plain": [
       "' \\nPassengers who boarded at Cherbourg (C) had the highest survival rate (55.4%)\\n\\nQueenstown (Q): 39%\\n\\nSouthampton (S): 33.7%\\n\\n'"
      ]
     },
     "execution_count": 36,
     "metadata": {},
     "output_type": "execute_result"
    }
   ],
   "source": [
    "survival_by_embark = df.groupby('embarked')['survived'].mean().round(3)\n",
    "print(survival_by_embark)\n",
    "\n",
    "''' \n",
    "Passengers who boarded at Cherbourg (C) had the highest survival rate (55.4%)\n",
    "\n",
    "Queenstown (Q): 39%\n",
    "\n",
    "Southampton (S): 33.7%\n",
    "\n",
    "'''"
   ]
  },
  {
   "cell_type": "markdown",
   "id": "57e40912",
   "metadata": {},
   "source": [
    "## 12. What is the impact of having parents/ children aboard on survival?"
   ]
  },
  {
   "cell_type": "code",
   "execution_count": 37,
   "id": "018c0923",
   "metadata": {},
   "outputs": [
    {
     "name": "stdout",
     "output_type": "stream",
     "text": [
      "parch\n",
      "0    0.373\n",
      "1    0.553\n",
      "2    0.533\n",
      "3    0.600\n",
      "4    0.000\n",
      "5    0.200\n",
      "6    0.000\n",
      "Name: survived, dtype: float64\n"
     ]
    }
   ],
   "source": [
    "parch_survival = df.groupby('parch')['survived'].mean().round(3)\n",
    "print(parch_survival)"
   ]
  },
  {
   "cell_type": "code",
   "execution_count": 38,
   "id": "18f8c341",
   "metadata": {},
   "outputs": [
    {
     "data": {
      "image/png": "[encoded data removed]",
      "text/plain": [
       "<Figure size 504x288 with 1 Axes>"
      ]
     },
     "metadata": {
      "needs_background": "light"
     },
     "output_type": "display_data"
    }
   ],
   "source": [
    "plt.figure(figsize=(7, 4))\n",
    "sns.barplot(x='parch', y='survived', data=df, palette='Set2')\n",
    "plt.title('Survival Rate by Number of Parents/Children Aboard')\n",
    "plt.xlabel('Number of Parents/Children (parch)')\n",
    "plt.ylabel('Survival Rate')\n",
    "plt.ylim(0, 1)\n",
    "plt.grid(True)\n",
    "plt.show()"
   ]
  },
  {
   "cell_type": "code",
   "execution_count": 39,
   "id": "48bcf48b",
   "metadata": {},
   "outputs": [
    {
     "data": {
      "text/plain": [
       "' Passengers with 1–3 parents/children aboard had higher survival rates than those with none.\\n\\nHaving 4 or more was associated with very low or no survival.\\n\\nSolo travelers (parch = 0) had a survival rate of around 34%.'"
      ]
     },
     "execution_count": 39,
     "metadata": {},
     "output_type": "execute_result"
    }
   ],
   "source": [
    "''' Passengers with 1–3 parents/children aboard had higher survival rates than those with none.\n",
    "\n",
    "Having 4 or more was associated with very low or no survival.\n",
    "\n",
    "Solo travelers (parch = 0) had a survival rate of around 34%.'''"
   ]
  },
  {
   "cell_type": "code",
   "execution_count": 40,
   "id": "f9de5d4e",
   "metadata": {},
   "outputs": [],
   "source": [
    "#Hope you enjoyed the Codes i am open for any critisism\n",
    "#Yours Sincerly \n",
    "#Okodede Joseph"
   ]
  },
  {
   "cell_type": "code",
   "execution_count": null,
   "id": "78828898",
   "metadata": {},
   "outputs": [],
   "source": []
  }
 ],
 "metadata": {
  "kernelspec": {
   "display_name": "Python 3 (ipykernel)",
   "language": "python",
   "name": "python3"
  },
  "language_info": {
   "codemirror_mode": {
    "name": "ipython",
    "version": 3
   },
   "file_extension": ".py",
   "mimetype": "text/x-python",
   "name": "python",
   "nbconvert_exporter": "python",
   "pygments_lexer": "ipython3",
   "version": "3.9.12"
  }
 },
 "nbformat": 4,
 "nbformat_minor": 5
}
